{
 "cells": [
  {
   "cell_type": "code",
   "execution_count": null,
   "metadata": {},
   "outputs": [],
   "source": [
    "%pip install -U ipywidgets"
   ]
  },
  {
   "cell_type": "code",
   "execution_count": 5,
   "metadata": {},
   "outputs": [
    {
     "ename": "AttributeError",
     "evalue": "module 'pydantic.fields' has no attribute 'ModelField'",
     "output_type": "error",
     "traceback": [
      "\u001b[0;31m---------------------------------------------------------------------------\u001b[0m",
      "\u001b[0;31mAttributeError\u001b[0m                            Traceback (most recent call last)",
      "Cell \u001b[0;32mIn[5], line 57\u001b[0m\n\u001b[1;32m     53\u001b[0m     sys\u001b[38;5;241m.\u001b[39mstdout\u001b[38;5;241m.\u001b[39mflush()\n\u001b[1;32m     56\u001b[0m \u001b[38;5;28;01mif\u001b[39;00m \u001b[38;5;18m__name__\u001b[39m \u001b[38;5;241m==\u001b[39m \u001b[38;5;124m\"\u001b[39m\u001b[38;5;124m__main__\u001b[39m\u001b[38;5;124m\"\u001b[39m:\n\u001b[0;32m---> 57\u001b[0m     \u001b[43mray\u001b[49m\u001b[38;5;241;43m.\u001b[39;49m\u001b[43minit\u001b[49m\u001b[43m(\u001b[49m\u001b[38;5;124;43mf\u001b[39;49m\u001b[38;5;124;43m\"\u001b[39;49m\u001b[38;5;124;43mray://192.168.122.10:\u001b[39;49m\u001b[38;5;132;43;01m{\u001b[39;49;00m\u001b[43mLOCAL_PORT\u001b[49m\u001b[38;5;132;43;01m}\u001b[39;49;00m\u001b[38;5;124;43m\"\u001b[39;49m\u001b[43m)\u001b[49m\n\u001b[1;32m     58\u001b[0m     main()\n",
      "File \u001b[0;32m~/Desktop/Github/ray-jupyterlab-k3s/ray/.venv/lib/python3.10/site-packages/ray/_private/client_mode_hook.py:105\u001b[0m, in \u001b[0;36mclient_mode_hook.<locals>.wrapper\u001b[0;34m(*args, **kwargs)\u001b[0m\n\u001b[1;32m    103\u001b[0m     \u001b[38;5;28;01mif\u001b[39;00m func\u001b[38;5;241m.\u001b[39m\u001b[38;5;18m__name__\u001b[39m \u001b[38;5;241m!=\u001b[39m \u001b[38;5;124m\"\u001b[39m\u001b[38;5;124minit\u001b[39m\u001b[38;5;124m\"\u001b[39m \u001b[38;5;129;01mor\u001b[39;00m is_client_mode_enabled_by_default:\n\u001b[1;32m    104\u001b[0m         \u001b[38;5;28;01mreturn\u001b[39;00m \u001b[38;5;28mgetattr\u001b[39m(ray, func\u001b[38;5;241m.\u001b[39m\u001b[38;5;18m__name__\u001b[39m)(\u001b[38;5;241m*\u001b[39margs, \u001b[38;5;241m*\u001b[39m\u001b[38;5;241m*\u001b[39mkwargs)\n\u001b[0;32m--> 105\u001b[0m \u001b[38;5;28;01mreturn\u001b[39;00m \u001b[43mfunc\u001b[49m\u001b[43m(\u001b[49m\u001b[38;5;241;43m*\u001b[39;49m\u001b[43margs\u001b[49m\u001b[43m,\u001b[49m\u001b[43m \u001b[49m\u001b[38;5;241;43m*\u001b[39;49m\u001b[38;5;241;43m*\u001b[39;49m\u001b[43mkwargs\u001b[49m\u001b[43m)\u001b[49m\n",
      "File \u001b[0;32m~/Desktop/Github/ray-jupyterlab-k3s/ray/.venv/lib/python3.10/site-packages/ray/_private/worker.py:1339\u001b[0m, in \u001b[0;36minit\u001b[0;34m(address, num_cpus, num_gpus, resources, object_store_memory, local_mode, ignore_reinit_error, include_dashboard, dashboard_host, dashboard_port, job_config, configure_logging, logging_level, logging_format, log_to_driver, namespace, runtime_env, storage, **kwargs)\u001b[0m\n\u001b[1;32m   1337\u001b[0m passed_kwargs\u001b[38;5;241m.\u001b[39mupdate(kwargs)\n\u001b[1;32m   1338\u001b[0m builder\u001b[38;5;241m.\u001b[39m_init_args(\u001b[38;5;241m*\u001b[39m\u001b[38;5;241m*\u001b[39mpassed_kwargs)\n\u001b[0;32m-> 1339\u001b[0m ctx \u001b[38;5;241m=\u001b[39m \u001b[43mbuilder\u001b[49m\u001b[38;5;241;43m.\u001b[39;49m\u001b[43mconnect\u001b[49m\u001b[43m(\u001b[49m\u001b[43m)\u001b[49m\n\u001b[1;32m   1340\u001b[0m \u001b[38;5;28;01mfrom\u001b[39;00m\u001b[38;5;250m \u001b[39m\u001b[38;5;21;01mray\u001b[39;00m\u001b[38;5;21;01m.\u001b[39;00m\u001b[38;5;21;01m_private\u001b[39;00m\u001b[38;5;21;01m.\u001b[39;00m\u001b[38;5;21;01musage\u001b[39;00m\u001b[38;5;250m \u001b[39m\u001b[38;5;28;01mimport\u001b[39;00m usage_lib\n\u001b[1;32m   1342\u001b[0m \u001b[38;5;28;01mif\u001b[39;00m passed_kwargs\u001b[38;5;241m.\u001b[39mget(\u001b[38;5;124m\"\u001b[39m\u001b[38;5;124mallow_multiple\u001b[39m\u001b[38;5;124m\"\u001b[39m) \u001b[38;5;129;01mis\u001b[39;00m \u001b[38;5;28;01mTrue\u001b[39;00m:\n",
      "File \u001b[0;32m~/Desktop/Github/ray-jupyterlab-k3s/ray/.venv/lib/python3.10/site-packages/ray/client_builder.py:182\u001b[0m, in \u001b[0;36mClientBuilder.connect\u001b[0;34m(self)\u001b[0m\n\u001b[1;32m    179\u001b[0m \u001b[38;5;28;01mif\u001b[39;00m \u001b[38;5;28mself\u001b[39m\u001b[38;5;241m.\u001b[39m_allow_multiple_connections:\n\u001b[1;32m    180\u001b[0m     old_ray_cxt \u001b[38;5;241m=\u001b[39m ray\u001b[38;5;241m.\u001b[39mutil\u001b[38;5;241m.\u001b[39mclient\u001b[38;5;241m.\u001b[39mray\u001b[38;5;241m.\u001b[39mset_context(\u001b[38;5;28;01mNone\u001b[39;00m)\n\u001b[0;32m--> 182\u001b[0m client_info_dict \u001b[38;5;241m=\u001b[39m \u001b[43mray\u001b[49m\u001b[38;5;241;43m.\u001b[39;49m\u001b[43mutil\u001b[49m\u001b[38;5;241;43m.\u001b[39;49m\u001b[43mclient_connect\u001b[49m\u001b[38;5;241;43m.\u001b[39;49m\u001b[43mconnect\u001b[49m\u001b[43m(\u001b[49m\n\u001b[1;32m    183\u001b[0m \u001b[43m    \u001b[49m\u001b[38;5;28;43mself\u001b[39;49m\u001b[38;5;241;43m.\u001b[39;49m\u001b[43maddress\u001b[49m\u001b[43m,\u001b[49m\n\u001b[1;32m    184\u001b[0m \u001b[43m    \u001b[49m\u001b[43mjob_config\u001b[49m\u001b[38;5;241;43m=\u001b[39;49m\u001b[38;5;28;43mself\u001b[39;49m\u001b[38;5;241;43m.\u001b[39;49m\u001b[43m_job_config\u001b[49m\u001b[43m,\u001b[49m\n\u001b[1;32m    185\u001b[0m \u001b[43m    \u001b[49m\u001b[43m_credentials\u001b[49m\u001b[38;5;241;43m=\u001b[39;49m\u001b[38;5;28;43mself\u001b[39;49m\u001b[38;5;241;43m.\u001b[39;49m\u001b[43m_credentials\u001b[49m\u001b[43m,\u001b[49m\n\u001b[1;32m    186\u001b[0m \u001b[43m    \u001b[49m\u001b[43mray_init_kwargs\u001b[49m\u001b[38;5;241;43m=\u001b[39;49m\u001b[38;5;28;43mself\u001b[39;49m\u001b[38;5;241;43m.\u001b[39;49m\u001b[43m_remote_init_kwargs\u001b[49m\u001b[43m,\u001b[49m\n\u001b[1;32m    187\u001b[0m \u001b[43m    \u001b[49m\u001b[43mmetadata\u001b[49m\u001b[38;5;241;43m=\u001b[39;49m\u001b[38;5;28;43mself\u001b[39;49m\u001b[38;5;241;43m.\u001b[39;49m\u001b[43m_metadata\u001b[49m\u001b[43m,\u001b[49m\n\u001b[1;32m    188\u001b[0m \u001b[43m\u001b[49m\u001b[43m)\u001b[49m\n\u001b[1;32m    190\u001b[0m dashboard_url \u001b[38;5;241m=\u001b[39m ray\u001b[38;5;241m.\u001b[39mutil\u001b[38;5;241m.\u001b[39mclient\u001b[38;5;241m.\u001b[39mray\u001b[38;5;241m.\u001b[39m_get_dashboard_url()\n\u001b[1;32m    192\u001b[0m cxt \u001b[38;5;241m=\u001b[39m ClientContext(\n\u001b[1;32m    193\u001b[0m     dashboard_url\u001b[38;5;241m=\u001b[39mdashboard_url,\n\u001b[1;32m    194\u001b[0m     python_version\u001b[38;5;241m=\u001b[39mclient_info_dict[\u001b[38;5;124m\"\u001b[39m\u001b[38;5;124mpython_version\u001b[39m\u001b[38;5;124m\"\u001b[39m],\n\u001b[0;32m   (...)\u001b[0m\n\u001b[1;32m    199\u001b[0m     _context_to_restore\u001b[38;5;241m=\u001b[39mray\u001b[38;5;241m.\u001b[39mutil\u001b[38;5;241m.\u001b[39mclient\u001b[38;5;241m.\u001b[39mray\u001b[38;5;241m.\u001b[39mget_context(),\n\u001b[1;32m    200\u001b[0m )\n",
      "File \u001b[0;32m~/Desktop/Github/ray-jupyterlab-k3s/ray/.venv/lib/python3.10/site-packages/ray/util/client_connect.py:57\u001b[0m, in \u001b[0;36mconnect\u001b[0;34m(conn_str, secure, metadata, connection_retries, job_config, namespace, ignore_version, _credentials, ray_init_kwargs)\u001b[0m\n\u001b[1;32m     52\u001b[0m _explicitly_enable_client_mode()\n\u001b[1;32m     54\u001b[0m \u001b[38;5;66;03m# TODO(barakmich): https://github.com/ray-project/ray/issues/13274\u001b[39;00m\n\u001b[1;32m     55\u001b[0m \u001b[38;5;66;03m# for supporting things like cert_path, ca_path, etc and creating\u001b[39;00m\n\u001b[1;32m     56\u001b[0m \u001b[38;5;66;03m# the correct metadata\u001b[39;00m\n\u001b[0;32m---> 57\u001b[0m conn \u001b[38;5;241m=\u001b[39m \u001b[43mray\u001b[49m\u001b[38;5;241;43m.\u001b[39;49m\u001b[43mconnect\u001b[49m\u001b[43m(\u001b[49m\n\u001b[1;32m     58\u001b[0m \u001b[43m    \u001b[49m\u001b[43mconn_str\u001b[49m\u001b[43m,\u001b[49m\n\u001b[1;32m     59\u001b[0m \u001b[43m    \u001b[49m\u001b[43mjob_config\u001b[49m\u001b[38;5;241;43m=\u001b[39;49m\u001b[43mjob_config\u001b[49m\u001b[43m,\u001b[49m\n\u001b[1;32m     60\u001b[0m \u001b[43m    \u001b[49m\u001b[43msecure\u001b[49m\u001b[38;5;241;43m=\u001b[39;49m\u001b[43msecure\u001b[49m\u001b[43m,\u001b[49m\n\u001b[1;32m     61\u001b[0m \u001b[43m    \u001b[49m\u001b[43mmetadata\u001b[49m\u001b[38;5;241;43m=\u001b[39;49m\u001b[43mmetadata\u001b[49m\u001b[43m,\u001b[49m\n\u001b[1;32m     62\u001b[0m \u001b[43m    \u001b[49m\u001b[43mconnection_retries\u001b[49m\u001b[38;5;241;43m=\u001b[39;49m\u001b[43mconnection_retries\u001b[49m\u001b[43m,\u001b[49m\n\u001b[1;32m     63\u001b[0m \u001b[43m    \u001b[49m\u001b[43mnamespace\u001b[49m\u001b[38;5;241;43m=\u001b[39;49m\u001b[43mnamespace\u001b[49m\u001b[43m,\u001b[49m\n\u001b[1;32m     64\u001b[0m \u001b[43m    \u001b[49m\u001b[43mignore_version\u001b[49m\u001b[38;5;241;43m=\u001b[39;49m\u001b[43mignore_version\u001b[49m\u001b[43m,\u001b[49m\n\u001b[1;32m     65\u001b[0m \u001b[43m    \u001b[49m\u001b[43m_credentials\u001b[49m\u001b[38;5;241;43m=\u001b[39;49m\u001b[43m_credentials\u001b[49m\u001b[43m,\u001b[49m\n\u001b[1;32m     66\u001b[0m \u001b[43m    \u001b[49m\u001b[43mray_init_kwargs\u001b[49m\u001b[38;5;241;43m=\u001b[39;49m\u001b[43mray_init_kwargs\u001b[49m\u001b[43m,\u001b[49m\n\u001b[1;32m     67\u001b[0m \u001b[43m\u001b[49m\u001b[43m)\u001b[49m\n\u001b[1;32m     68\u001b[0m \u001b[38;5;28;01mreturn\u001b[39;00m conn\n",
      "File \u001b[0;32m~/Desktop/Github/ray-jupyterlab-k3s/ray/.venv/lib/python3.10/site-packages/ray/util/client/__init__.py:252\u001b[0m, in \u001b[0;36mRayAPIStub.connect\u001b[0;34m(self, *args, **kw_args)\u001b[0m\n\u001b[1;32m    250\u001b[0m \u001b[38;5;28;01mdef\u001b[39;00m\u001b[38;5;250m \u001b[39m\u001b[38;5;21mconnect\u001b[39m(\u001b[38;5;28mself\u001b[39m, \u001b[38;5;241m*\u001b[39margs, \u001b[38;5;241m*\u001b[39m\u001b[38;5;241m*\u001b[39mkw_args):\n\u001b[1;32m    251\u001b[0m     \u001b[38;5;28mself\u001b[39m\u001b[38;5;241m.\u001b[39mget_context()\u001b[38;5;241m.\u001b[39m_inside_client_test \u001b[38;5;241m=\u001b[39m \u001b[38;5;28mself\u001b[39m\u001b[38;5;241m.\u001b[39m_inside_client_test\n\u001b[0;32m--> 252\u001b[0m     conn \u001b[38;5;241m=\u001b[39m \u001b[38;5;28;43mself\u001b[39;49m\u001b[38;5;241;43m.\u001b[39;49m\u001b[43mget_context\u001b[49m\u001b[43m(\u001b[49m\u001b[43m)\u001b[49m\u001b[38;5;241;43m.\u001b[39;49m\u001b[43mconnect\u001b[49m\u001b[43m(\u001b[49m\u001b[38;5;241;43m*\u001b[39;49m\u001b[43margs\u001b[49m\u001b[43m,\u001b[49m\u001b[43m \u001b[49m\u001b[38;5;241;43m*\u001b[39;49m\u001b[38;5;241;43m*\u001b[39;49m\u001b[43mkw_args\u001b[49m\u001b[43m)\u001b[49m\n\u001b[1;32m    253\u001b[0m     \u001b[38;5;28;01mglobal\u001b[39;00m _lock, _all_contexts\n\u001b[1;32m    254\u001b[0m     \u001b[38;5;28;01mwith\u001b[39;00m _lock:\n",
      "File \u001b[0;32m~/Desktop/Github/ray-jupyterlab-k3s/ray/.venv/lib/python3.10/site-packages/ray/util/client/__init__.py:105\u001b[0m, in \u001b[0;36m_ClientContext.connect\u001b[0;34m(self, conn_str, job_config, secure, metadata, connection_retries, namespace, ignore_version, _credentials, ray_init_kwargs)\u001b[0m\n\u001b[1;32m    103\u001b[0m     conn_info \u001b[38;5;241m=\u001b[39m \u001b[38;5;28mself\u001b[39m\u001b[38;5;241m.\u001b[39mclient_worker\u001b[38;5;241m.\u001b[39mconnection_info()\n\u001b[1;32m    104\u001b[0m     \u001b[38;5;28mself\u001b[39m\u001b[38;5;241m.\u001b[39m_check_versions(conn_info, ignore_version)\n\u001b[0;32m--> 105\u001b[0m     \u001b[38;5;28;43mself\u001b[39;49m\u001b[38;5;241;43m.\u001b[39;49m\u001b[43m_register_serializers\u001b[49m\u001b[43m(\u001b[49m\u001b[43m)\u001b[49m\n\u001b[1;32m    106\u001b[0m     \u001b[38;5;28;01mreturn\u001b[39;00m conn_info\n\u001b[1;32m    107\u001b[0m \u001b[38;5;28;01mexcept\u001b[39;00m \u001b[38;5;167;01mException\u001b[39;00m:\n",
      "File \u001b[0;32m~/Desktop/Github/ray-jupyterlab-k3s/ray/.venv/lib/python3.10/site-packages/ray/util/client/__init__.py:121\u001b[0m, in \u001b[0;36m_ClientContext._register_serializers\u001b[0;34m(self)\u001b[0m\n\u001b[1;32m    118\u001b[0m \u001b[38;5;28;01mfrom\u001b[39;00m\u001b[38;5;250m \u001b[39m\u001b[38;5;21;01mray\u001b[39;00m\u001b[38;5;21;01m.\u001b[39;00m\u001b[38;5;21;01mutil\u001b[39;00m\u001b[38;5;21;01m.\u001b[39;00m\u001b[38;5;21;01mserialization\u001b[39;00m\u001b[38;5;250m \u001b[39m\u001b[38;5;28;01mimport\u001b[39;00m StandaloneSerializationContext\n\u001b[1;32m    120\u001b[0m ctx \u001b[38;5;241m=\u001b[39m StandaloneSerializationContext()\n\u001b[0;32m--> 121\u001b[0m \u001b[43mray\u001b[49m\u001b[38;5;241;43m.\u001b[39;49m\u001b[43mutil\u001b[49m\u001b[38;5;241;43m.\u001b[39;49m\u001b[43mserialization_addons\u001b[49m\u001b[38;5;241;43m.\u001b[39;49m\u001b[43mapply\u001b[49m\u001b[43m(\u001b[49m\u001b[43mctx\u001b[49m\u001b[43m)\u001b[49m\n",
      "File \u001b[0;32m~/Desktop/Github/ray-jupyterlab-k3s/ray/.venv/lib/python3.10/site-packages/ray/util/serialization_addons.py:58\u001b[0m, in \u001b[0;36mapply\u001b[0;34m(serialization_context)\u001b[0m\n\u001b[1;32m     56\u001b[0m \u001b[38;5;129m@DeveloperAPI\u001b[39m\n\u001b[1;32m     57\u001b[0m \u001b[38;5;28;01mdef\u001b[39;00m\u001b[38;5;250m \u001b[39m\u001b[38;5;21mapply\u001b[39m(serialization_context):\n\u001b[0;32m---> 58\u001b[0m     \u001b[43mregister_pydantic_serializer\u001b[49m\u001b[43m(\u001b[49m\u001b[43mserialization_context\u001b[49m\u001b[43m)\u001b[49m\n\u001b[1;32m     59\u001b[0m     register_starlette_serializer(serialization_context)\n\u001b[1;32m     61\u001b[0m     \u001b[38;5;28;01mif\u001b[39;00m sys\u001b[38;5;241m.\u001b[39mplatform \u001b[38;5;241m!=\u001b[39m \u001b[38;5;124m\"\u001b[39m\u001b[38;5;124mwin32\u001b[39m\u001b[38;5;124m\"\u001b[39m:\n",
      "File \u001b[0;32m~/Desktop/Github/ray-jupyterlab-k3s/ray/.venv/lib/python3.10/site-packages/ray/util/serialization_addons.py:21\u001b[0m, in \u001b[0;36mregister_pydantic_serializer\u001b[0;34m(serialization_context)\u001b[0m\n\u001b[1;32m     16\u001b[0m     \u001b[38;5;28;01mreturn\u001b[39;00m\n\u001b[1;32m     18\u001b[0m \u001b[38;5;66;03m# Pydantic's Cython validators are not serializable.\u001b[39;00m\n\u001b[1;32m     19\u001b[0m \u001b[38;5;66;03m# https://github.com/cloudpipe/cloudpickle/issues/408\u001b[39;00m\n\u001b[1;32m     20\u001b[0m serialization_context\u001b[38;5;241m.\u001b[39m_register_cloudpickle_serializer(\n\u001b[0;32m---> 21\u001b[0m     \u001b[43mpydantic\u001b[49m\u001b[38;5;241;43m.\u001b[39;49m\u001b[43mfields\u001b[49m\u001b[38;5;241;43m.\u001b[39;49m\u001b[43mModelField\u001b[49m,\n\u001b[1;32m     22\u001b[0m     custom_serializer\u001b[38;5;241m=\u001b[39m\u001b[38;5;28;01mlambda\u001b[39;00m o: {\n\u001b[1;32m     23\u001b[0m         \u001b[38;5;124m\"\u001b[39m\u001b[38;5;124mname\u001b[39m\u001b[38;5;124m\"\u001b[39m: o\u001b[38;5;241m.\u001b[39mname,\n\u001b[1;32m     24\u001b[0m         \u001b[38;5;66;03m# outer_type_ is the original type for ModelFields,\u001b[39;00m\n\u001b[1;32m     25\u001b[0m         \u001b[38;5;66;03m# while type_ can be updated later with the nested type\u001b[39;00m\n\u001b[1;32m     26\u001b[0m         \u001b[38;5;66;03m# like int for List[int].\u001b[39;00m\n\u001b[1;32m     27\u001b[0m         \u001b[38;5;124m\"\u001b[39m\u001b[38;5;124mtype_\u001b[39m\u001b[38;5;124m\"\u001b[39m: o\u001b[38;5;241m.\u001b[39mouter_type_,\n\u001b[1;32m     28\u001b[0m         \u001b[38;5;124m\"\u001b[39m\u001b[38;5;124mclass_validators\u001b[39m\u001b[38;5;124m\"\u001b[39m: o\u001b[38;5;241m.\u001b[39mclass_validators,\n\u001b[1;32m     29\u001b[0m         \u001b[38;5;124m\"\u001b[39m\u001b[38;5;124mmodel_config\u001b[39m\u001b[38;5;124m\"\u001b[39m: o\u001b[38;5;241m.\u001b[39mmodel_config,\n\u001b[1;32m     30\u001b[0m         \u001b[38;5;124m\"\u001b[39m\u001b[38;5;124mdefault\u001b[39m\u001b[38;5;124m\"\u001b[39m: o\u001b[38;5;241m.\u001b[39mdefault,\n\u001b[1;32m     31\u001b[0m         \u001b[38;5;124m\"\u001b[39m\u001b[38;5;124mdefault_factory\u001b[39m\u001b[38;5;124m\"\u001b[39m: o\u001b[38;5;241m.\u001b[39mdefault_factory,\n\u001b[1;32m     32\u001b[0m         \u001b[38;5;124m\"\u001b[39m\u001b[38;5;124mrequired\u001b[39m\u001b[38;5;124m\"\u001b[39m: o\u001b[38;5;241m.\u001b[39mrequired,\n\u001b[1;32m     33\u001b[0m         \u001b[38;5;124m\"\u001b[39m\u001b[38;5;124malias\u001b[39m\u001b[38;5;124m\"\u001b[39m: o\u001b[38;5;241m.\u001b[39malias,\n\u001b[1;32m     34\u001b[0m         \u001b[38;5;124m\"\u001b[39m\u001b[38;5;124mfield_info\u001b[39m\u001b[38;5;124m\"\u001b[39m: o\u001b[38;5;241m.\u001b[39mfield_info,\n\u001b[1;32m     35\u001b[0m     },\n\u001b[1;32m     36\u001b[0m     custom_deserializer\u001b[38;5;241m=\u001b[39m\u001b[38;5;28;01mlambda\u001b[39;00m kwargs: pydantic\u001b[38;5;241m.\u001b[39mfields\u001b[38;5;241m.\u001b[39mModelField(\u001b[38;5;241m*\u001b[39m\u001b[38;5;241m*\u001b[39mkwargs),\n\u001b[1;32m     37\u001b[0m )\n",
      "\u001b[0;31mAttributeError\u001b[0m: module 'pydantic.fields' has no attribute 'ModelField'"
     ]
    }
   ],
   "source": [
    "from collections import Counter\n",
    "import sys\n",
    "import time\n",
    "import ray\n",
    "\"\"\" Run this script locally to execute a Ray program on your Ray cluster on\n",
    "Kubernetes.\n",
    "\n",
    "Before running this script, you must port-forward from the local host to\n",
    "the relevant Kubernetes head service e.g.\n",
    "kubectl -n ray port-forward service/example-cluster-ray-head 10001:10001.\n",
    "\n",
    "Set the constant LOCAL_PORT below to the local port being forwarded.\n",
    "\"\"\"\n",
    "LOCAL_PORT = 10001\n",
    "HEAD_IP=\"192.168.122.10\"\n",
    "\n",
    "@ray.remote\n",
    "def gethostname(x):\n",
    "    import platform\n",
    "    import time\n",
    "    time.sleep(0.01)\n",
    "    return x + (platform.node(), )\n",
    "\n",
    "\n",
    "def wait_for_nodes(expected):\n",
    "    # Wait for all nodes to join the cluster.\n",
    "    while True:\n",
    "        resources = ray.cluster_resources()\n",
    "        node_keys = [key for key in resources if \"node\" in key]\n",
    "        num_nodes = sum(resources[node_key] for node_key in node_keys)\n",
    "        if num_nodes < expected:\n",
    "            print(\"{} nodes have joined so far, waiting for {} more.\".format(\n",
    "                num_nodes, expected - num_nodes))\n",
    "            sys.stdout.flush()\n",
    "            time.sleep(1)\n",
    "        else:\n",
    "            break\n",
    "\n",
    "\n",
    "def main():\n",
    "    wait_for_nodes(2)\n",
    "\n",
    "    # Check that objects can be transferred from each node to each other node.\n",
    "    for i in range(10):\n",
    "        print(\"Iteration {}\".format(i))\n",
    "        results = [\n",
    "            gethostname.remote(gethostname.remote(())) for _ in range(100)\n",
    "        ]\n",
    "        print(Counter(ray.get(results)))\n",
    "        sys.stdout.flush()\n",
    "\n",
    "    print(\"Success!\")\n",
    "    sys.stdout.flush()\n",
    "\n",
    "\n",
    "if __name__ == \"__main__\":\n",
    "    ray.init(f\"ray://192.168.122.10:{LOCAL_PORT}\")\n",
    "    main()"
   ]
  }
 ],
 "metadata": {
  "kernelspec": {
   "display_name": ".venv",
   "language": "python",
   "name": "python3"
  },
  "language_info": {
   "codemirror_mode": {
    "name": "ipython",
    "version": 3
   },
   "file_extension": ".py",
   "mimetype": "text/x-python",
   "name": "python",
   "nbconvert_exporter": "python",
   "pygments_lexer": "ipython3",
   "version": "3.10.12"
  }
 },
 "nbformat": 4,
 "nbformat_minor": 2
}
